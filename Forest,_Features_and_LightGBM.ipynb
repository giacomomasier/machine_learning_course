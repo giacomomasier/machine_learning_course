{
  "nbformat": 4,
  "nbformat_minor": 0,
  "metadata": {
    "colab": {
      "name": "Forest, Features and LightGBM.ipynb",
      "provenance": [],
      "include_colab_link": true
    },
    "kernelspec": {
      "name": "python3",
      "display_name": "Python 3"
    },
    "accelerator": "GPU"
  },
  "cells": [
    {
      "cell_type": "markdown",
      "metadata": {
        "id": "view-in-github",
        "colab_type": "text"
      },
      "source": [
        "<a href=\"https://colab.research.google.com/github/giacomomasier/machine_learning_course/blob/python3/Forest%2C_Features_and_LightGBM.ipynb\" target=\"_parent\"><img src=\"https://colab.research.google.com/assets/colab-badge.svg\" alt=\"Open In Colab\"/></a>"
      ]
    },
    {
      "cell_type": "markdown",
      "metadata": {
        "id": "MJAripWzDzMo",
        "colab_type": "text"
      },
      "source": [
        "# Dimostrazione di valutazione dell'importanza delle feature selezionate nella foresta\n",
        "## Confronto tra classificazione ad albero singolo, random forest e LightGBM\n"
      ]
    },
    {
      "cell_type": "markdown",
      "metadata": {
        "id": "SjPAEh6tEjU4",
        "colab_type": "text"
      },
      "source": [
        "Import SciKit Tree Library and LightGBM Library"
      ]
    },
    {
      "cell_type": "code",
      "metadata": {
        "id": "K-AAeVxODnbw",
        "colab_type": "code",
        "colab": {}
      },
      "source": [
        "from sklearn import tree\n",
        "import pandas\n",
        "import numpy as np\n",
        "import matplotlib.pyplot as plt\n",
        "import lightgbm as lgb # Microsoft lightGBM install with: conda install -c conda-forge lightgbm"
      ],
      "execution_count": 0,
      "outputs": []
    },
    {
      "cell_type": "markdown",
      "metadata": {
        "id": "ZiGYOJy_EoKI",
        "colab_type": "text"
      },
      "source": [
        "My functions to do OHE and do feature engineering on Titanic"
      ]
    },
    {
      "cell_type": "code",
      "metadata": {
        "id": "PMGlN204Dv3l",
        "colab_type": "code",
        "colab": {}
      },
      "source": [
        "def cat_to_num(data):\n",
        "    categories = np.unique(data)\n",
        "    features = {}\n",
        "    for cat in categories:\n",
        "        binary = (data == cat)\n",
        "        features[\"%s=%s\" % (data.name, cat)] = binary.astype(\"int\")\n",
        "    return pandas.DataFrame(features)\n",
        "    \n",
        "def prepare_data(data):\n",
        "    \"\"\"Takes a dataframe of raw data and returns ML model features\n",
        "    \"\"\"\n",
        "    \n",
        "    # Initially, we build a model only on the available numerical values\n",
        "    features = data.drop([\"PassengerId\", \"Survived\", \"Fare\", \"Name\", \"Sex\", \"Ticket\", \"Cabin\", \"Embarked\"], axis=1)\n",
        "    \n",
        "    # Setting missing age values to -1\n",
        "    features[\"Age\"] = data[\"Age\"].fillna(-1)\n",
        "    \n",
        "    # Adding the sqrt of the fare feature\n",
        "    features[\"sqrt_Fare\"] = np.sqrt(data[\"Fare\"])\n",
        "    \n",
        "    # Adding gender categorical value\n",
        "    features = features.join( cat_to_num(data['Sex']))\n",
        "    \n",
        "    # Adding Embarked categorical value\n",
        "    features = features.join( cat_to_num(data['Embarked'].fillna(\"\")) )\n",
        "    \n",
        "    \n",
        "    return features\n"
      ],
      "execution_count": 0,
      "outputs": []
    },
    {
      "cell_type": "markdown",
      "metadata": {
        "id": "ppqQdGe8EfmA",
        "colab_type": "text"
      },
      "source": [
        "Load, split, prepare data"
      ]
    },
    {
      "cell_type": "code",
      "metadata": {
        "id": "E53EOtVxEGRD",
        "colab_type": "code",
        "colab": {}
      },
      "source": [
        "data = pandas.read_csv(\"https://raw.githubusercontent.com/thimotyb/real-world-machine-learning/master/data/titanic.csv\")\n",
        "data_train = data[:int(0.8*len(data))]\n",
        "data_test = data[int(0.8*len(data)):]\n",
        "\n",
        "\n",
        "features = prepare_data(data_train)"
      ],
      "execution_count": 0,
      "outputs": []
    },
    {
      "cell_type": "code",
      "metadata": {
        "id": "AFcvuajTyCl9",
        "colab_type": "code",
        "outputId": "1f759cce-03f8-40bb-b9eb-c33c1841809c",
        "colab": {
          "base_uri": "https://localhost:8080/",
          "height": 417
        }
      },
      "source": [
        "features"
      ],
      "execution_count": 0,
      "outputs": [
        {
          "output_type": "execute_result",
          "data": {
            "text/html": [
              "<div>\n",
              "<style scoped>\n",
              "    .dataframe tbody tr th:only-of-type {\n",
              "        vertical-align: middle;\n",
              "    }\n",
              "\n",
              "    .dataframe tbody tr th {\n",
              "        vertical-align: top;\n",
              "    }\n",
              "\n",
              "    .dataframe thead th {\n",
              "        text-align: right;\n",
              "    }\n",
              "</style>\n",
              "<table border=\"1\" class=\"dataframe\">\n",
              "  <thead>\n",
              "    <tr style=\"text-align: right;\">\n",
              "      <th></th>\n",
              "      <th>Pclass</th>\n",
              "      <th>Age</th>\n",
              "      <th>SibSp</th>\n",
              "      <th>Parch</th>\n",
              "      <th>sqrt_Fare</th>\n",
              "      <th>Sex=female</th>\n",
              "      <th>Sex=male</th>\n",
              "      <th>Embarked=</th>\n",
              "      <th>Embarked=C</th>\n",
              "      <th>Embarked=Q</th>\n",
              "      <th>Embarked=S</th>\n",
              "    </tr>\n",
              "  </thead>\n",
              "  <tbody>\n",
              "    <tr>\n",
              "      <th>0</th>\n",
              "      <td>3</td>\n",
              "      <td>22.0</td>\n",
              "      <td>1</td>\n",
              "      <td>0</td>\n",
              "      <td>2.692582</td>\n",
              "      <td>0</td>\n",
              "      <td>1</td>\n",
              "      <td>0</td>\n",
              "      <td>0</td>\n",
              "      <td>0</td>\n",
              "      <td>1</td>\n",
              "    </tr>\n",
              "    <tr>\n",
              "      <th>1</th>\n",
              "      <td>1</td>\n",
              "      <td>38.0</td>\n",
              "      <td>1</td>\n",
              "      <td>0</td>\n",
              "      <td>8.442944</td>\n",
              "      <td>1</td>\n",
              "      <td>0</td>\n",
              "      <td>0</td>\n",
              "      <td>1</td>\n",
              "      <td>0</td>\n",
              "      <td>0</td>\n",
              "    </tr>\n",
              "    <tr>\n",
              "      <th>2</th>\n",
              "      <td>3</td>\n",
              "      <td>26.0</td>\n",
              "      <td>0</td>\n",
              "      <td>0</td>\n",
              "      <td>2.815138</td>\n",
              "      <td>1</td>\n",
              "      <td>0</td>\n",
              "      <td>0</td>\n",
              "      <td>0</td>\n",
              "      <td>0</td>\n",
              "      <td>1</td>\n",
              "    </tr>\n",
              "    <tr>\n",
              "      <th>3</th>\n",
              "      <td>1</td>\n",
              "      <td>35.0</td>\n",
              "      <td>1</td>\n",
              "      <td>0</td>\n",
              "      <td>7.286975</td>\n",
              "      <td>1</td>\n",
              "      <td>0</td>\n",
              "      <td>0</td>\n",
              "      <td>0</td>\n",
              "      <td>0</td>\n",
              "      <td>1</td>\n",
              "    </tr>\n",
              "    <tr>\n",
              "      <th>4</th>\n",
              "      <td>3</td>\n",
              "      <td>35.0</td>\n",
              "      <td>0</td>\n",
              "      <td>0</td>\n",
              "      <td>2.837252</td>\n",
              "      <td>0</td>\n",
              "      <td>1</td>\n",
              "      <td>0</td>\n",
              "      <td>0</td>\n",
              "      <td>0</td>\n",
              "      <td>1</td>\n",
              "    </tr>\n",
              "    <tr>\n",
              "      <th>...</th>\n",
              "      <td>...</td>\n",
              "      <td>...</td>\n",
              "      <td>...</td>\n",
              "      <td>...</td>\n",
              "      <td>...</td>\n",
              "      <td>...</td>\n",
              "      <td>...</td>\n",
              "      <td>...</td>\n",
              "      <td>...</td>\n",
              "      <td>...</td>\n",
              "      <td>...</td>\n",
              "    </tr>\n",
              "    <tr>\n",
              "      <th>707</th>\n",
              "      <td>1</td>\n",
              "      <td>42.0</td>\n",
              "      <td>0</td>\n",
              "      <td>0</td>\n",
              "      <td>5.127134</td>\n",
              "      <td>0</td>\n",
              "      <td>1</td>\n",
              "      <td>0</td>\n",
              "      <td>0</td>\n",
              "      <td>0</td>\n",
              "      <td>1</td>\n",
              "    </tr>\n",
              "    <tr>\n",
              "      <th>708</th>\n",
              "      <td>1</td>\n",
              "      <td>22.0</td>\n",
              "      <td>0</td>\n",
              "      <td>0</td>\n",
              "      <td>12.310565</td>\n",
              "      <td>1</td>\n",
              "      <td>0</td>\n",
              "      <td>0</td>\n",
              "      <td>0</td>\n",
              "      <td>0</td>\n",
              "      <td>1</td>\n",
              "    </tr>\n",
              "    <tr>\n",
              "      <th>709</th>\n",
              "      <td>3</td>\n",
              "      <td>-1.0</td>\n",
              "      <td>1</td>\n",
              "      <td>1</td>\n",
              "      <td>3.904587</td>\n",
              "      <td>0</td>\n",
              "      <td>1</td>\n",
              "      <td>0</td>\n",
              "      <td>1</td>\n",
              "      <td>0</td>\n",
              "      <td>0</td>\n",
              "    </tr>\n",
              "    <tr>\n",
              "      <th>710</th>\n",
              "      <td>1</td>\n",
              "      <td>24.0</td>\n",
              "      <td>0</td>\n",
              "      <td>0</td>\n",
              "      <td>7.035922</td>\n",
              "      <td>1</td>\n",
              "      <td>0</td>\n",
              "      <td>0</td>\n",
              "      <td>1</td>\n",
              "      <td>0</td>\n",
              "      <td>0</td>\n",
              "    </tr>\n",
              "    <tr>\n",
              "      <th>711</th>\n",
              "      <td>1</td>\n",
              "      <td>-1.0</td>\n",
              "      <td>0</td>\n",
              "      <td>0</td>\n",
              "      <td>5.152669</td>\n",
              "      <td>0</td>\n",
              "      <td>1</td>\n",
              "      <td>0</td>\n",
              "      <td>0</td>\n",
              "      <td>0</td>\n",
              "      <td>1</td>\n",
              "    </tr>\n",
              "  </tbody>\n",
              "</table>\n",
              "<p>712 rows × 11 columns</p>\n",
              "</div>"
            ],
            "text/plain": [
              "     Pclass   Age  SibSp  Parch  ...  Embarked=  Embarked=C  Embarked=Q  Embarked=S\n",
              "0         3  22.0      1      0  ...          0           0           0           1\n",
              "1         1  38.0      1      0  ...          0           1           0           0\n",
              "2         3  26.0      0      0  ...          0           0           0           1\n",
              "3         1  35.0      1      0  ...          0           0           0           1\n",
              "4         3  35.0      0      0  ...          0           0           0           1\n",
              "..      ...   ...    ...    ...  ...        ...         ...         ...         ...\n",
              "707       1  42.0      0      0  ...          0           0           0           1\n",
              "708       1  22.0      0      0  ...          0           0           0           1\n",
              "709       3  -1.0      1      1  ...          0           1           0           0\n",
              "710       1  24.0      0      0  ...          0           1           0           0\n",
              "711       1  -1.0      0      0  ...          0           0           0           1\n",
              "\n",
              "[712 rows x 11 columns]"
            ]
          },
          "metadata": {
            "tags": []
          },
          "execution_count": 4
        }
      ]
    },
    {
      "cell_type": "markdown",
      "metadata": {
        "id": "2tPeUXNcEuBz",
        "colab_type": "text"
      },
      "source": [
        "## First Model: Using a Single Tree Classifier"
      ]
    },
    {
      "cell_type": "code",
      "metadata": {
        "id": "7IfusBm2ELLH",
        "colab_type": "code",
        "outputId": "999a028c-06e1-4073-8ecc-afa97a629f8b",
        "colab": {
          "base_uri": "https://localhost:8080/",
          "height": 50
        }
      },
      "source": [
        "model = tree.DecisionTreeClassifier(max_depth = 4)\n",
        "model.fit(features, data_train[\"Survived\"])\n",
        "print(model.score(prepare_data(data_train), data_train[\"Survived\"]))\n",
        "model.score(prepare_data(data_test), data_test[\"Survived\"])"
      ],
      "execution_count": 45,
      "outputs": [
        {
          "output_type": "stream",
          "text": [
            "0.8117977528089888\n"
          ],
          "name": "stdout"
        },
        {
          "output_type": "execute_result",
          "data": {
            "text/plain": [
              "0.8212290502793296"
            ]
          },
          "metadata": {
            "tags": []
          },
          "execution_count": 45
        }
      ]
    },
    {
      "cell_type": "markdown",
      "metadata": {
        "id": "54pptlrfE_eI",
        "colab_type": "text"
      },
      "source": [
        "## Second Model: Using a Random Forest"
      ]
    },
    {
      "cell_type": "code",
      "metadata": {
        "id": "1AylbtlzE3Ct",
        "colab_type": "code",
        "outputId": "b8ea6874-f6d8-474b-a284-2b8113e8af7b",
        "colab": {
          "base_uri": "https://localhost:8080/",
          "height": 50
        }
      },
      "source": [
        "from sklearn import ensemble # RF is an ensemble category of model\n",
        "forest = ensemble.RandomForestClassifier(n_estimators=5000, bootstrap=True, max_features=\"sqrt\")\n",
        "forest.fit(features, data_train[\"Survived\"])\n",
        "print(forest.score(prepare_data(data_train), data_train[\"Survived\"]))\n",
        "forest.score(prepare_data(data_test), data_test[\"Survived\"])"
      ],
      "execution_count": 46,
      "outputs": [
        {
          "output_type": "stream",
          "text": [
            "0.9817415730337079\n"
          ],
          "name": "stdout"
        },
        {
          "output_type": "execute_result",
          "data": {
            "text/plain": [
              "0.8100558659217877"
            ]
          },
          "metadata": {
            "tags": []
          },
          "execution_count": 46
        }
      ]
    },
    {
      "cell_type": "markdown",
      "metadata": {
        "id": "xRz1Aql03JTM",
        "colab_type": "text"
      },
      "source": [
        "Si possono anche richiedere le predizioni in formato probabilistico, per settare la soglia di conversione del falso/vero positivo"
      ]
    },
    {
      "cell_type": "code",
      "metadata": {
        "id": "Nz4OlkU721Yt",
        "colab_type": "code",
        "outputId": "09b3b72d-1482-4118-c248-8489d1767f2c",
        "colab": {
          "base_uri": "https://localhost:8080/",
          "height": 342
        }
      },
      "source": [
        "forest_predict_proba=forest.predict_proba(prepare_data(data_test))\n",
        "forest_predict_proba[:20]"
      ],
      "execution_count": 47,
      "outputs": [
        {
          "output_type": "execute_result",
          "data": {
            "text/plain": [
              "array([[0.8868    , 0.1132    ],\n",
              "       [0.3512    , 0.6488    ],\n",
              "       [0.90632619, 0.09367381],\n",
              "       [0.99284333, 0.00715667],\n",
              "       [0.006     , 0.994     ],\n",
              "       [0.17128333, 0.82871667],\n",
              "       [0.9694    , 0.0306    ],\n",
              "       [0.77686738, 0.22313262],\n",
              "       [0.0062    , 0.9938    ],\n",
              "       [0.9397619 , 0.0602381 ],\n",
              "       [0.32505333, 0.67494667],\n",
              "       [0.90463619, 0.09536381],\n",
              "       [0.7098    , 0.2902    ],\n",
              "       [0.99539667, 0.00460333],\n",
              "       [0.2748    , 0.7252    ],\n",
              "       [0.04509708, 0.95490292],\n",
              "       [0.69630667, 0.30369333],\n",
              "       [0.42937   , 0.57063   ],\n",
              "       [0.0136    , 0.9864    ],\n",
              "       [0.50099444, 0.49900556]])"
            ]
          },
          "metadata": {
            "tags": []
          },
          "execution_count": 47
        }
      ]
    },
    {
      "cell_type": "markdown",
      "metadata": {
        "id": "7BUefXwXGUL0",
        "colab_type": "text"
      },
      "source": [
        "Feature importance in the Random Forest"
      ]
    },
    {
      "cell_type": "code",
      "metadata": {
        "id": "8Le6pdE7KbmA",
        "colab_type": "code",
        "colab": {}
      },
      "source": [
        "# Elenca e visualizza il ranking delle feature usate nelal foresta\n",
        "def show_features(forest, X, y):\n",
        "  importances = forest.feature_importances_\n",
        "\n",
        "  # Calcola deviazione standard per plottare errore\n",
        "  std = np.std([tree.feature_importances_ for tree in forest.estimators_],\n",
        "              axis=0)\n",
        "  indices = np.argsort(importances)[::-1]\n",
        "\n",
        "  # Print the feature ranking\n",
        "  print(\"Feature ranking:\")\n",
        "\n",
        "  for f in range(X.shape[1]):\n",
        "      print(\"%d. feature %s (%f)\" % (indices[f], features.columns[indices[f]], importances[indices[f]]))\n",
        "\n",
        "  # Plot the feature importances of the forest\n",
        "  plt.figure()\n",
        "  plt.title(\"Feature importances\")\n",
        "  plt.bar(range(X.shape[1]), importances[indices],\n",
        "        color=\"r\", yerr=std[indices], align=\"center\")\n",
        "  plt.xticks(range(X.shape[1]), indices)\n",
        "  plt.xlim([-1, X.shape[1]])\n",
        "  plt.show()\n",
        "  "
      ],
      "execution_count": 0,
      "outputs": []
    },
    {
      "cell_type": "code",
      "metadata": {
        "id": "X2l-QRi8FZYA",
        "colab_type": "code",
        "outputId": "28a3f95c-1864-40d7-d96b-52c9f5ee9960",
        "colab": {
          "base_uri": "https://localhost:8080/",
          "height": 476
        }
      },
      "source": [
        "show_features(forest, features, data_train[\"Survived\"])"
      ],
      "execution_count": 48,
      "outputs": [
        {
          "output_type": "stream",
          "text": [
            "Feature ranking:\n",
            "4. feature sqrt_Fare (0.269411)\n",
            "1. feature Age (0.240030)\n",
            "5. feature Sex=female (0.141469)\n",
            "6. feature Sex=male (0.139434)\n",
            "0. feature Pclass (0.081035)\n",
            "2. feature SibSp (0.050898)\n",
            "3. feature Parch (0.041610)\n",
            "10. feature Embarked=S (0.014903)\n",
            "8. feature Embarked=C (0.012716)\n",
            "9. feature Embarked=Q (0.008459)\n",
            "7. feature Embarked= (0.000034)\n"
          ],
          "name": "stdout"
        },
        {
          "output_type": "display_data",
          "data": {
            "image/png": "[encoded data removed]",
            "text/plain": [
              "<Figure size 432x288 with 1 Axes>"
            ]
          },
          "metadata": {
            "tags": []
          }
        }
      ]
    },
    {
      "cell_type": "code",
      "metadata": {
        "id": "UMR4o26h7bSu",
        "colab_type": "code",
        "colab": {
          "base_uri": "https://localhost:8080/",
          "height": 492
        },
        "outputId": "f9383522-1e66-432e-a7c2-3fa2c7573723"
      },
      "source": [
        "### prova togliendo un sesso\n",
        "\n",
        "def prepare_data2(data):\n",
        "    \"\"\"Takes a dataframe of raw data and returns ML model features\n",
        "    \"\"\"\n",
        "    \n",
        "    # Initially, we build a model only on the available numerical values\n",
        "    features = data.drop([\"PassengerId\", \"Survived\", \"Fare\", \"Name\", \"Sex\", \"Ticket\", \"Cabin\", \"Embarked\"], axis=1)\n",
        "    \n",
        "    # Setting missing age values to -1\n",
        "    features[\"Age\"] = data[\"Age\"].fillna(-1)\n",
        "    \n",
        "    # Adding the sqrt of the fare feature\n",
        "    features[\"sqrt_Fare\"] = np.sqrt(data[\"Fare\"])\n",
        "    \n",
        "    # Adding gender categorical value\n",
        "    features = features.join( cat_to_num(data['Sex']))\n",
        "    \n",
        "    # Adding Embarked categorical value\n",
        "    features = features.join( cat_to_num(data['Embarked'].fillna(\"\")) )\n",
        "    \n",
        "    features = features.drop(['Sex=female'], axis=1)\n",
        "    \n",
        "    return features\n",
        "\n",
        "data = pandas.read_csv(\"https://raw.githubusercontent.com/thimotyb/real-world-machine-learning/master/data/titanic.csv\")\n",
        "data_train2 = data[:int(0.8*len(data))]\n",
        "data_test2 = data[int(0.8*len(data)):]\n",
        "\n",
        "\n",
        "features = prepare_data2(data_train2)\n",
        "\n",
        "forest = ensemble.RandomForestClassifier(n_estimators=5000, bootstrap=True, max_features=\"sqrt\")\n",
        "forest.fit(features, data_train2[\"Survived\"])\n",
        "print(forest.score(features, data_train2[\"Survived\"]))\n",
        "print(forest.score(prepare_data2(data_test), data_test2[\"Survived\"]))\n",
        "\n",
        "show_features(forest, features, data_train2[\"Survived\"])"
      ],
      "execution_count": 42,
      "outputs": [
        {
          "output_type": "stream",
          "text": [
            "0.9817415730337079\n",
            "0.8100558659217877\n",
            "Feature ranking:\n",
            "4. feature sqrt_Fare (0.280407)\n",
            "5. feature Sex=male (0.260350)\n",
            "1. feature Age (0.244883)\n",
            "0. feature Pclass (0.081296)\n",
            "2. feature SibSp (0.051507)\n",
            "3. feature Parch (0.042210)\n",
            "9. feature Embarked=S (0.016640)\n",
            "7. feature Embarked=C (0.013127)\n",
            "8. feature Embarked=Q (0.009514)\n",
            "6. feature Embarked= (0.000066)\n"
          ],
          "name": "stdout"
        },
        {
          "output_type": "display_data",
          "data": {
            "image/png": "[encoded data removed]",
            "text/plain": [
              "<Figure size 432x288 with 1 Axes>"
            ]
          },
          "metadata": {
            "tags": []
          }
        }
      ]
    },
    {
      "cell_type": "markdown",
      "metadata": {
        "id": "SihiKhcJKLJ5",
        "colab_type": "text"
      },
      "source": [
        "Mostra gli Stimatori che sono stati usati per comporre la foresta"
      ]
    },
    {
      "cell_type": "code",
      "metadata": {
        "id": "cIawiZT8GvqT",
        "colab_type": "code",
        "outputId": "f7cb909d-38a1-4ea4-ff21-a518f1d6348e",
        "colab": {
          "base_uri": "https://localhost:8080/",
          "height": 35
        }
      },
      "source": [
        "len(forest.estimators_) # Questo coincide con il numero di stimatori prodotti per popolare la foresta"
      ],
      "execution_count": 0,
      "outputs": [
        {
          "output_type": "execute_result",
          "data": {
            "text/plain": [
              "10"
            ]
          },
          "metadata": {
            "tags": []
          },
          "execution_count": 9
        }
      ]
    },
    {
      "cell_type": "markdown",
      "metadata": {
        "id": "Z3LOY4g7LDU2",
        "colab_type": "text"
      },
      "source": [
        "## Classificazione con una foresta più grande"
      ]
    },
    {
      "cell_type": "code",
      "metadata": {
        "id": "pkpLx3p5JUcT",
        "colab_type": "code",
        "outputId": "16775e4f-22ee-4d22-99f9-c017a92e48a4",
        "colab": {
          "base_uri": "https://localhost:8080/",
          "height": 347
        }
      },
      "source": [
        "extraforest = ensemble.ExtraTreesClassifier(n_estimators=10000, bootstrap=True)\n",
        "extraforest.fit(features, data_train[\"Survived\"])\n",
        "print(extraforest.score(prepare_data(data_train), data_train[\"Survived\"]))\n",
        "extraforest.score(prepare_data(data_test), data_test[\"Survived\"])"
      ],
      "execution_count": 43,
      "outputs": [
        {
          "output_type": "error",
          "ename": "ValueError",
          "evalue": "ignored",
          "traceback": [
            "\u001b[0;31m---------------------------------------------------------------------------\u001b[0m",
            "\u001b[0;31mValueError\u001b[0m                                Traceback (most recent call last)",
            "\u001b[0;32m<ipython-input-43-6388f849961e>\u001b[0m in \u001b[0;36m<module>\u001b[0;34m()\u001b[0m\n\u001b[1;32m      1\u001b[0m \u001b[0mextraforest\u001b[0m \u001b[0;34m=\u001b[0m \u001b[0mensemble\u001b[0m\u001b[0;34m.\u001b[0m\u001b[0mExtraTreesClassifier\u001b[0m\u001b[0;34m(\u001b[0m\u001b[0mn_estimators\u001b[0m\u001b[0;34m=\u001b[0m\u001b[0;36m10000\u001b[0m\u001b[0;34m,\u001b[0m \u001b[0mbootstrap\u001b[0m\u001b[0;34m=\u001b[0m\u001b[0;32mTrue\u001b[0m\u001b[0;34m)\u001b[0m\u001b[0;34m\u001b[0m\u001b[0;34m\u001b[0m\u001b[0m\n\u001b[1;32m      2\u001b[0m \u001b[0mextraforest\u001b[0m\u001b[0;34m.\u001b[0m\u001b[0mfit\u001b[0m\u001b[0;34m(\u001b[0m\u001b[0mfeatures\u001b[0m\u001b[0;34m,\u001b[0m \u001b[0mdata_train\u001b[0m\u001b[0;34m[\u001b[0m\u001b[0;34m\"Survived\"\u001b[0m\u001b[0;34m]\u001b[0m\u001b[0;34m)\u001b[0m\u001b[0;34m\u001b[0m\u001b[0;34m\u001b[0m\u001b[0m\n\u001b[0;32m----> 3\u001b[0;31m \u001b[0mprint\u001b[0m\u001b[0;34m(\u001b[0m\u001b[0mextraforest\u001b[0m\u001b[0;34m.\u001b[0m\u001b[0mscore\u001b[0m\u001b[0;34m(\u001b[0m\u001b[0mprepare_data\u001b[0m\u001b[0;34m(\u001b[0m\u001b[0mdata_train\u001b[0m\u001b[0;34m)\u001b[0m\u001b[0;34m,\u001b[0m \u001b[0mdata_train\u001b[0m\u001b[0;34m[\u001b[0m\u001b[0;34m\"Survived\"\u001b[0m\u001b[0;34m]\u001b[0m\u001b[0;34m)\u001b[0m\u001b[0;34m)\u001b[0m\u001b[0;34m\u001b[0m\u001b[0;34m\u001b[0m\u001b[0m\n\u001b[0m\u001b[1;32m      4\u001b[0m \u001b[0mextraforest\u001b[0m\u001b[0;34m.\u001b[0m\u001b[0mscore\u001b[0m\u001b[0;34m(\u001b[0m\u001b[0mprepare_data\u001b[0m\u001b[0;34m(\u001b[0m\u001b[0mdata_test\u001b[0m\u001b[0;34m)\u001b[0m\u001b[0;34m,\u001b[0m \u001b[0mdata_test\u001b[0m\u001b[0;34m[\u001b[0m\u001b[0;34m\"Survived\"\u001b[0m\u001b[0;34m]\u001b[0m\u001b[0;34m)\u001b[0m\u001b[0;34m\u001b[0m\u001b[0;34m\u001b[0m\u001b[0m\n",
            "\u001b[0;32m/usr/local/lib/python3.6/dist-packages/sklearn/base.py\u001b[0m in \u001b[0;36mscore\u001b[0;34m(self, X, y, sample_weight)\u001b[0m\n\u001b[1;32m    355\u001b[0m         \"\"\"\n\u001b[1;32m    356\u001b[0m         \u001b[0;32mfrom\u001b[0m \u001b[0;34m.\u001b[0m\u001b[0mmetrics\u001b[0m \u001b[0;32mimport\u001b[0m \u001b[0maccuracy_score\u001b[0m\u001b[0;34m\u001b[0m\u001b[0;34m\u001b[0m\u001b[0m\n\u001b[0;32m--> 357\u001b[0;31m         \u001b[0;32mreturn\u001b[0m \u001b[0maccuracy_score\u001b[0m\u001b[0;34m(\u001b[0m\u001b[0my\u001b[0m\u001b[0;34m,\u001b[0m \u001b[0mself\u001b[0m\u001b[0;34m.\u001b[0m\u001b[0mpredict\u001b[0m\u001b[0;34m(\u001b[0m\u001b[0mX\u001b[0m\u001b[0;34m)\u001b[0m\u001b[0;34m,\u001b[0m \u001b[0msample_weight\u001b[0m\u001b[0;34m=\u001b[0m\u001b[0msample_weight\u001b[0m\u001b[0;34m)\u001b[0m\u001b[0;34m\u001b[0m\u001b[0;34m\u001b[0m\u001b[0m\n\u001b[0m\u001b[1;32m    358\u001b[0m \u001b[0;34m\u001b[0m\u001b[0m\n\u001b[1;32m    359\u001b[0m \u001b[0;34m\u001b[0m\u001b[0m\n",
            "\u001b[0;32m/usr/local/lib/python3.6/dist-packages/sklearn/ensemble/forest.py\u001b[0m in \u001b[0;36mpredict\u001b[0;34m(self, X)\u001b[0m\n\u001b[1;32m    543\u001b[0m             \u001b[0mThe\u001b[0m \u001b[0mpredicted\u001b[0m \u001b[0mclasses\u001b[0m\u001b[0;34m.\u001b[0m\u001b[0;34m\u001b[0m\u001b[0;34m\u001b[0m\u001b[0m\n\u001b[1;32m    544\u001b[0m         \"\"\"\n\u001b[0;32m--> 545\u001b[0;31m         \u001b[0mproba\u001b[0m \u001b[0;34m=\u001b[0m \u001b[0mself\u001b[0m\u001b[0;34m.\u001b[0m\u001b[0mpredict_proba\u001b[0m\u001b[0;34m(\u001b[0m\u001b[0mX\u001b[0m\u001b[0;34m)\u001b[0m\u001b[0;34m\u001b[0m\u001b[0;34m\u001b[0m\u001b[0m\n\u001b[0m\u001b[1;32m    546\u001b[0m \u001b[0;34m\u001b[0m\u001b[0m\n\u001b[1;32m    547\u001b[0m         \u001b[0;32mif\u001b[0m \u001b[0mself\u001b[0m\u001b[0;34m.\u001b[0m\u001b[0mn_outputs_\u001b[0m \u001b[0;34m==\u001b[0m \u001b[0;36m1\u001b[0m\u001b[0;34m:\u001b[0m\u001b[0;34m\u001b[0m\u001b[0;34m\u001b[0m\u001b[0m\n",
            "\u001b[0;32m/usr/local/lib/python3.6/dist-packages/sklearn/ensemble/forest.py\u001b[0m in \u001b[0;36mpredict_proba\u001b[0;34m(self, X)\u001b[0m\n\u001b[1;32m    586\u001b[0m         \u001b[0mcheck_is_fitted\u001b[0m\u001b[0;34m(\u001b[0m\u001b[0mself\u001b[0m\u001b[0;34m,\u001b[0m \u001b[0;34m'estimators_'\u001b[0m\u001b[0;34m)\u001b[0m\u001b[0;34m\u001b[0m\u001b[0;34m\u001b[0m\u001b[0m\n\u001b[1;32m    587\u001b[0m         \u001b[0;31m# Check data\u001b[0m\u001b[0;34m\u001b[0m\u001b[0;34m\u001b[0m\u001b[0;34m\u001b[0m\u001b[0m\n\u001b[0;32m--> 588\u001b[0;31m         \u001b[0mX\u001b[0m \u001b[0;34m=\u001b[0m \u001b[0mself\u001b[0m\u001b[0;34m.\u001b[0m\u001b[0m_validate_X_predict\u001b[0m\u001b[0;34m(\u001b[0m\u001b[0mX\u001b[0m\u001b[0;34m)\u001b[0m\u001b[0;34m\u001b[0m\u001b[0;34m\u001b[0m\u001b[0m\n\u001b[0m\u001b[1;32m    589\u001b[0m \u001b[0;34m\u001b[0m\u001b[0m\n\u001b[1;32m    590\u001b[0m         \u001b[0;31m# Assign chunk of trees to jobs\u001b[0m\u001b[0;34m\u001b[0m\u001b[0;34m\u001b[0m\u001b[0;34m\u001b[0m\u001b[0m\n",
            "\u001b[0;32m/usr/local/lib/python3.6/dist-packages/sklearn/ensemble/forest.py\u001b[0m in \u001b[0;36m_validate_X_predict\u001b[0;34m(self, X)\u001b[0m\n\u001b[1;32m    357\u001b[0m                                  \"call `fit` before exploiting the model.\")\n\u001b[1;32m    358\u001b[0m \u001b[0;34m\u001b[0m\u001b[0m\n\u001b[0;32m--> 359\u001b[0;31m         \u001b[0;32mreturn\u001b[0m \u001b[0mself\u001b[0m\u001b[0;34m.\u001b[0m\u001b[0mestimators_\u001b[0m\u001b[0;34m[\u001b[0m\u001b[0;36m0\u001b[0m\u001b[0;34m]\u001b[0m\u001b[0;34m.\u001b[0m\u001b[0m_validate_X_predict\u001b[0m\u001b[0;34m(\u001b[0m\u001b[0mX\u001b[0m\u001b[0;34m,\u001b[0m \u001b[0mcheck_input\u001b[0m\u001b[0;34m=\u001b[0m\u001b[0;32mTrue\u001b[0m\u001b[0;34m)\u001b[0m\u001b[0;34m\u001b[0m\u001b[0;34m\u001b[0m\u001b[0m\n\u001b[0m\u001b[1;32m    360\u001b[0m \u001b[0;34m\u001b[0m\u001b[0m\n\u001b[1;32m    361\u001b[0m     \u001b[0;34m@\u001b[0m\u001b[0mproperty\u001b[0m\u001b[0;34m\u001b[0m\u001b[0;34m\u001b[0m\u001b[0m\n",
            "\u001b[0;32m/usr/local/lib/python3.6/dist-packages/sklearn/tree/tree.py\u001b[0m in \u001b[0;36m_validate_X_predict\u001b[0;34m(self, X, check_input)\u001b[0m\n\u001b[1;32m    400\u001b[0m                              \u001b[0;34m\"match the input. Model n_features is %s and \"\u001b[0m\u001b[0;34m\u001b[0m\u001b[0;34m\u001b[0m\u001b[0m\n\u001b[1;32m    401\u001b[0m                              \u001b[0;34m\"input n_features is %s \"\u001b[0m\u001b[0;34m\u001b[0m\u001b[0;34m\u001b[0m\u001b[0m\n\u001b[0;32m--> 402\u001b[0;31m                              % (self.n_features_, n_features))\n\u001b[0m\u001b[1;32m    403\u001b[0m \u001b[0;34m\u001b[0m\u001b[0m\n\u001b[1;32m    404\u001b[0m         \u001b[0;32mreturn\u001b[0m \u001b[0mX\u001b[0m\u001b[0;34m\u001b[0m\u001b[0;34m\u001b[0m\u001b[0m\n",
            "\u001b[0;31mValueError\u001b[0m: Number of features of the model must match the input. Model n_features is 10 and input n_features is 11 "
          ]
        }
      ]
    },
    {
      "cell_type": "code",
      "metadata": {
        "id": "rbNh7MfOLUAZ",
        "colab_type": "code",
        "outputId": "5f8520bf-53d3-47ef-ffbf-8b3801d19f0b",
        "colab": {
          "base_uri": "https://localhost:8080/",
          "height": 492
        }
      },
      "source": [
        "show_features(extraforest, features, data_train[\"Survived\"])"
      ],
      "execution_count": 0,
      "outputs": [
        {
          "output_type": "stream",
          "text": [
            "Feature ranking:\n",
            "4. feature sqrt_Fare (0.233477)\n",
            "1. feature Age (0.226867)\n",
            "6. feature Sex=male (0.153349)\n",
            "5. feature Sex=female (0.137785)\n",
            "0. feature Pclass (0.105691)\n",
            "2. feature SibSp (0.054460)\n",
            "3. feature Parch (0.050083)\n",
            "10. feature Embarked=S (0.015416)\n",
            "8. feature Embarked=C (0.013992)\n",
            "9. feature Embarked=Q (0.008826)\n",
            "7. feature Embarked= (0.000055)\n"
          ],
          "name": "stdout"
        },
        {
          "output_type": "display_data",
          "data": {
            "image/png": "[encoded data removed]",
            "text/plain": [
              "<Figure size 432x288 with 1 Axes>"
            ]
          },
          "metadata": {
            "tags": []
          }
        }
      ]
    },
    {
      "cell_type": "markdown",
      "metadata": {
        "id": "b2iJj-PsLxxa",
        "colab_type": "text"
      },
      "source": [
        "## Classificazione con LightGBM"
      ]
    },
    {
      "cell_type": "code",
      "metadata": {
        "id": "nB4wkDzsLqnJ",
        "colab_type": "code",
        "colab": {}
      },
      "source": [
        "d_train = lgb.Dataset(features, label=data_train[\"Survived\"])\n",
        "params = {}\n",
        "params['learning_rate'] = 0.003\n",
        "params['boosting_type'] = 'gbdt'\n",
        "params['objective'] = 'binary'\n",
        "params['metric'] = 'binary_logloss'\n",
        "params['sub_feature'] = 0.5\n",
        "params['num_leaves'] = 10\n",
        "params['min_data'] = 50\n",
        "params['max_depth'] = 10\n",
        "clf = lgb.train(params, d_train, 100)"
      ],
      "execution_count": 0,
      "outputs": []
    },
    {
      "cell_type": "code",
      "metadata": {
        "id": "fYfMgukFyLcy",
        "colab_type": "code",
        "colab": {}
      },
      "source": [
        "#Prediction\n",
        "y_pred=clf.predict(prepare_data(data_test))\n",
        "#convert into binary values\n",
        "\n",
        "threshold = .45   # setting threshold\n",
        "\n",
        "for i in range(0,len(y_pred)):\n",
        "    if y_pred[i]>=threshold:       \n",
        "       y_pred[i]=1\n",
        "    else:  \n",
        "       y_pred[i]=0"
      ],
      "execution_count": 0,
      "outputs": []
    },
    {
      "cell_type": "code",
      "metadata": {
        "id": "WFuQW6ORzOoG",
        "colab_type": "code",
        "outputId": "58628d9d-5710-42f2-f410-f0ec9d0e4374",
        "colab": {
          "base_uri": "https://localhost:8080/",
          "height": 211
        }
      },
      "source": [
        "data_test[\"Survived\"]\n",
        "y_pred"
      ],
      "execution_count": 0,
      "outputs": [
        {
          "output_type": "execute_result",
          "data": {
            "text/plain": [
              "array([0., 0., 0., 0., 0., 0., 0., 0., 0., 0., 0., 0., 0., 0., 0., 0., 0.,\n",
              "       0., 0., 0., 0., 0., 0., 0., 0., 0., 0., 0., 0., 0., 0., 0., 0., 0.,\n",
              "       0., 0., 0., 0., 0., 0., 0., 0., 0., 0., 0., 0., 0., 0., 0., 0., 0.,\n",
              "       0., 0., 0., 0., 0., 0., 0., 0., 0., 0., 0., 0., 0., 0., 0., 0., 0.,\n",
              "       0., 0., 0., 0., 0., 0., 0., 0., 0., 0., 0., 0., 0., 0., 0., 0., 0.,\n",
              "       0., 0., 0., 0., 0., 0., 0., 0., 0., 0., 0., 0., 0., 0., 0., 0., 0.,\n",
              "       0., 0., 0., 0., 0., 0., 0., 0., 0., 0., 0., 0., 0., 0., 0., 0., 0.,\n",
              "       0., 0., 0., 0., 0., 0., 0., 0., 0., 0., 0., 0., 0., 0., 0., 0., 0.,\n",
              "       0., 0., 0., 0., 0., 0., 0., 0., 0., 0., 0., 0., 0., 0., 0., 0., 0.,\n",
              "       0., 0., 0., 0., 0., 0., 0., 0., 0., 0., 0., 0., 0., 0., 0., 0., 0.,\n",
              "       0., 0., 0., 0., 0., 0., 0., 0., 0.])"
            ]
          },
          "metadata": {
            "tags": []
          },
          "execution_count": 47
        }
      ]
    },
    {
      "cell_type": "markdown",
      "metadata": {
        "id": "zSLF5XeV1iPU",
        "colab_type": "text"
      },
      "source": [
        "By definition a confusion matrix  is such that Ci,j is equal to the number of observations known to be in group i but predicted to be in group j.\n",
        "\n",
        "Thus in binary classification, the count of true negatives is C0,0 , false negatives is C1,0, true positives is C1,1 and false positives is C0,1."
      ]
    },
    {
      "cell_type": "code",
      "metadata": {
        "id": "mlhQ7rnlykl1",
        "colab_type": "code",
        "colab": {}
      },
      "source": [
        "#Confusion matrix\n",
        "from sklearn.metrics import confusion_matrix\n",
        "cm = confusion_matrix(data_test[\"Survived\"], y_pred)\n",
        "#Accuracy\n",
        "from sklearn.metrics import accuracy_score\n",
        "accuracy=accuracy_score(y_pred,data_test[\"Survived\"])"
      ],
      "execution_count": 0,
      "outputs": []
    },
    {
      "cell_type": "code",
      "metadata": {
        "id": "T7ODroB5y2iT",
        "colab_type": "code",
        "outputId": "cfe0dcb5-1796-4f41-825e-168f34c8853c",
        "colab": {
          "base_uri": "https://localhost:8080/",
          "height": 87
        }
      },
      "source": [
        "print(\"Confusion Matrix:\")\n",
        "print(cm)\n",
        "print(\"Model Accuracy: {0}\".format(accuracy))"
      ],
      "execution_count": 0,
      "outputs": [
        {
          "output_type": "stream",
          "text": [
            "Confusion Matrix:\n",
            "[[115   0]\n",
            " [ 64   0]]\n",
            "Model Accuracy: 0.6424581005586593\n"
          ],
          "name": "stdout"
        }
      ]
    },
    {
      "cell_type": "code",
      "metadata": {
        "id": "KkEpaduDz75P",
        "colab_type": "code",
        "colab": {}
      },
      "source": [
        ""
      ],
      "execution_count": 0,
      "outputs": []
    }
  ]
}