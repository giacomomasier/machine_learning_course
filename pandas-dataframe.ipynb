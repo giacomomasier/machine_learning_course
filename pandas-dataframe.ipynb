{
 "cells": [
  {
   "cell_type": "code",
   "execution_count": 46,
   "metadata": {},
   "outputs": [],
   "source": [
    "import pandas as pd\n",
    "import numpy as np"
   ]
  },
  {
   "cell_type": "code",
<<<<<<< HEAD
   "execution_count": 5,
   "metadata": {},
   "outputs": [
    {
     "name": "stdout",
     "output_type": "stream",
     "text": [
      "0    4.00\n",
      "1    5.00\n",
      "2    7.33\n",
      "3    2.00\n",
      "dtype: float64\n",
      "primo      4.00\n",
      "secondo    5.00\n",
      "terzo      7.33\n",
      "quarto     2.00\n",
      "dtype: float64\n"
     ]
    }
   ],
   "source": [
    "miaserie = pd.Series([4,5,7.33,2])\n",
    "print(miaserie)\n",
    "#non indicizzata\n",
    "\n",
    "miaserie2 = pd.Series([4,5,7.33,2],index=['primo','secondo','terzo','quarto'])\n",
    "print(miaserie2)\n",
    "#indicizzata"
=======
   "execution_count": 50,
   "metadata": {},
   "outputs": [
    {
     "data": {
      "text/plain": [
       "5.0"
      ]
     },
     "execution_count": 50,
     "metadata": {},
     "output_type": "execute_result"
    }
   ],
   "source": [
    "miaserie = pd.Series([4, 5, 6.5, 7], index=['primo', 'secondo', 'terzo', 'quarto'])\n",
    "miaserie['secondo']"
>>>>>>> a6d271dad3aa18c954c05b81e7954a93370994ed
   ]
  },
  {
   "cell_type": "code",
<<<<<<< HEAD
   "execution_count": 6,
=======
   "execution_count": 54,
>>>>>>> a6d271dad3aa18c954c05b81e7954a93370994ed
   "metadata": {},
   "outputs": [],
   "source": [
    "d = {'one': pd.Series([1., 2., 3.], index=['a', 'b', 'c']),\n",
    "   ....:      'two': pd.Series([1., 2., 3., 4.], index=['a', 'b', 'c', 'd'])}"
   ]
  },
  {
   "cell_type": "code",
<<<<<<< HEAD
   "execution_count": 13,
=======
   "execution_count": 55,
   "metadata": {},
   "outputs": [
    {
     "data": {
      "text/plain": [
       "0    1.0\n",
       "1    2.0\n",
       "2    4.5\n",
       "3    8.0\n",
       "dtype: float64"
      ]
     },
     "execution_count": 55,
     "metadata": {},
     "output_type": "execute_result"
    }
   ],
   "source": [
    "nonomog = pd.Series([1, 2, 4.5, 8])\n",
    "nonomog"
   ]
  },
  {
   "cell_type": "code",
   "execution_count": 12,
   "metadata": {},
   "outputs": [
    {
     "data": {
      "text/plain": [
       "a    2.0\n",
       "b    4.0\n",
       "c    6.0\n",
       "d    NaN\n",
       "dtype: float64"
      ]
     },
     "execution_count": 12,
     "metadata": {},
     "output_type": "execute_result"
    }
   ],
   "source": [
    "d['two']+d['one']"
   ]
  },
  {
   "cell_type": "code",
   "execution_count": 57,
   "metadata": {},
   "outputs": [
    {
     "data": {
      "text/plain": [
       "a    3.0\n",
       "b    3.0\n",
       "c    NaN\n",
       "d    NaN\n",
       "dtype: float64"
      ]
     },
     "execution_count": 57,
     "metadata": {},
     "output_type": "execute_result"
    }
   ],
   "source": [
    "ser1 = pd.Series([1, 2, 3], index=['b', 'a', 'c'])\n",
    "ser2 = pd.Series([1, 2, 3], index=['a', 'b', 'd'])\n",
    "ser1 + ser2"
   ]
  },
  {
   "cell_type": "code",
   "execution_count": 58,
>>>>>>> a6d271dad3aa18c954c05b81e7954a93370994ed
   "metadata": {},
   "outputs": [],
   "source": [
    "df = pd.DataFrame(d)"
   ]
  },
  {
   "cell_type": "code",
<<<<<<< HEAD
   "execution_count": 14,
=======
   "execution_count": 59,
>>>>>>> a6d271dad3aa18c954c05b81e7954a93370994ed
   "metadata": {},
   "outputs": [
    {
     "data": {
      "text/html": [
       "<div>\n",
       "<style scoped>\n",
       "    .dataframe tbody tr th:only-of-type {\n",
       "        vertical-align: middle;\n",
       "    }\n",
       "\n",
       "    .dataframe tbody tr th {\n",
       "        vertical-align: top;\n",
       "    }\n",
       "\n",
       "    .dataframe thead th {\n",
       "        text-align: right;\n",
       "    }\n",
       "</style>\n",
       "<table border=\"1\" class=\"dataframe\">\n",
       "  <thead>\n",
       "    <tr style=\"text-align: right;\">\n",
       "      <th></th>\n",
       "      <th>one</th>\n",
       "      <th>two</th>\n",
       "    </tr>\n",
       "  </thead>\n",
       "  <tbody>\n",
       "    <tr>\n",
       "      <th>a</th>\n",
       "      <td>1.0</td>\n",
       "      <td>1.0</td>\n",
       "    </tr>\n",
       "    <tr>\n",
       "      <th>b</th>\n",
       "      <td>2.0</td>\n",
       "      <td>2.0</td>\n",
       "    </tr>\n",
       "    <tr>\n",
       "      <th>c</th>\n",
       "      <td>3.0</td>\n",
       "      <td>3.0</td>\n",
       "    </tr>\n",
       "    <tr>\n",
       "      <th>d</th>\n",
       "      <td>NaN</td>\n",
       "      <td>4.0</td>\n",
       "    </tr>\n",
       "  </tbody>\n",
       "</table>\n",
       "</div>"
      ],
      "text/plain": [
       "   one  two\n",
       "a  1.0  1.0\n",
       "b  2.0  2.0\n",
       "c  3.0  3.0\n",
       "d  NaN  4.0"
      ]
     },
<<<<<<< HEAD
     "execution_count": 14,
=======
     "execution_count": 59,
>>>>>>> a6d271dad3aa18c954c05b81e7954a93370994ed
     "metadata": {},
     "output_type": "execute_result"
    }
   ],
   "source": [
    "df"
   ]
  },
  {
   "cell_type": "code",
<<<<<<< HEAD
   "execution_count": 15,
=======
   "execution_count": 60,
>>>>>>> a6d271dad3aa18c954c05b81e7954a93370994ed
   "metadata": {},
   "outputs": [
    {
     "data": {
      "text/plain": [
       "a    1.0\n",
       "b    2.0\n",
       "c    3.0\n",
       "d    NaN\n",
       "Name: one, dtype: float64"
      ]
     },
<<<<<<< HEAD
     "execution_count": 15,
=======
     "execution_count": 60,
>>>>>>> a6d271dad3aa18c954c05b81e7954a93370994ed
     "metadata": {},
     "output_type": "execute_result"
    }
   ],
   "source": [
    "df['one'] # select by column"
   ]
  },
  {
   "cell_type": "code",
   "execution_count": 61,
   "metadata": {},
   "outputs": [
    {
     "data": {
      "text/plain": [
       "1.0"
      ]
     },
     "execution_count": 61,
     "metadata": {},
     "output_type": "execute_result"
    }
   ],
   "source": [
    "df['one'][0]\n",
    "df['one']['a']"
   ]
  },
  {
   "cell_type": "code",
   "execution_count": 21,
   "metadata": {},
   "outputs": [
    {
     "data": {
      "text/plain": [
       "one    2.0\n",
       "two    2.0\n",
       "Name: b, dtype: float64"
      ]
     },
     "execution_count": 21,
     "metadata": {},
     "output_type": "execute_result"
    }
   ],
   "source": [
    "df.loc['b'] # select by row label"
   ]
  },
  {
   "cell_type": "code",
   "execution_count": 19,
   "metadata": {},
   "outputs": [
    {
     "data": {
      "text/plain": [
       "one    3.0\n",
       "two    3.0\n",
       "Name: c, dtype: float64"
      ]
     },
     "execution_count": 19,
     "metadata": {},
     "output_type": "execute_result"
    }
   ],
   "source": [
    "df.iloc[2] # select by row index"
   ]
  },
  {
   "cell_type": "code",
<<<<<<< HEAD
   "execution_count": 12,
=======
   "execution_count": 62,
   "metadata": {},
   "outputs": [
    {
     "name": "stdout",
     "output_type": "stream",
     "text": [
      "         0         1         2         3         4         5         6   \\\n",
      "0  0.535152  0.095929  0.395406  0.936506  0.211616  0.343637  0.529339   \n",
      "1  0.070010  0.491663  0.906705  0.219558  0.444858  0.050416  0.066870   \n",
      "2  0.343313  0.675234  0.127901  0.088032  0.563167  0.107934  0.030566   \n",
      "3  0.868817  0.436623  0.825485  0.710495  0.757594  0.979150  0.998631   \n",
      "4  0.802051  0.538301  0.622823  0.295235  0.533551  0.924103  0.503972   \n",
      "\n",
      "         7         8         9   ...        70        71        72        73  \\\n",
      "0  0.552649  0.527557  0.684992  ...  0.461948  0.889837  0.468499  0.238012   \n",
      "1  0.620533  0.975998  0.469268  ...  0.804340  0.776403  0.848122  0.007830   \n",
      "2  0.906064  0.365690  0.881340  ...  0.549896  0.326393  0.712379  0.296398   \n",
      "3  0.903271  0.209482  0.877794  ...  0.489182  0.566886  0.690581  0.022470   \n",
      "4  0.124876  0.334606  0.825555  ...  0.802756  0.537186  0.769224  0.760702   \n",
      "\n",
      "         74        75        76        77        78        79  \n",
      "0  0.730350  0.144306  0.037600  0.952389  0.864900  0.097042  \n",
      "1  0.606825  0.532990  0.087372  0.929093  0.821879  0.942547  \n",
      "2  0.000021  0.772670  0.019261  0.390892  0.399992  0.171519  \n",
      "3  0.130966  0.102406  0.493603  0.272449  0.943200  0.939550  \n",
      "4  0.628455  0.917148  0.088545  0.022127  0.217272  0.294769  \n",
      "\n",
      "[5 rows x 80 columns]\n"
     ]
    }
   ],
   "source": [
    "df2 = pd.DataFrame(np.random.rand(5, 80))\n",
    "print(df2)"
   ]
  },
  {
   "cell_type": "code",
   "execution_count": 65,
>>>>>>> a6d271dad3aa18c954c05b81e7954a93370994ed
   "metadata": {},
   "outputs": [
    {
     "data": {
      "text/plain": [
<<<<<<< HEAD
       "a    17\n",
       "b     9\n",
       "c    12\n",
       "dtype: int64"
      ]
     },
     "execution_count": 12,
=======
       "0    0.395406\n",
       "1    0.906705\n",
       "2    0.127901\n",
       "3    0.825485\n",
       "4    0.622823\n",
       "Name: 2, dtype: float64"
      ]
     },
     "execution_count": 65,
>>>>>>> a6d271dad3aa18c954c05b81e7954a93370994ed
     "metadata": {},
     "output_type": "execute_result"
    }
   ],
   "source": [
<<<<<<< HEAD
    "d['two']+d['one']\n",
    "#cmq somma in base all'indice (la chiave per la somma è l'indice)\n",
    "ser1 = pd.Series([1,2,3], index=['b','a','c'])\n",
    "ser2 = pd.Series([15,8,9], index=['a','b','c'])\n",
    "ser1+ser2"
=======
    "df2[2]"
>>>>>>> a6d271dad3aa18c954c05b81e7954a93370994ed
   ]
  },
  {
   "cell_type": "code",
<<<<<<< HEAD
   "execution_count": 20,
=======
   "execution_count": 45,
>>>>>>> a6d271dad3aa18c954c05b81e7954a93370994ed
   "metadata": {},
   "outputs": [
    {
     "data": {
      "text/html": [
       "<div>\n",
       "<style scoped>\n",
       "    .dataframe tbody tr th:only-of-type {\n",
       "        vertical-align: middle;\n",
       "    }\n",
       "\n",
       "    .dataframe tbody tr th {\n",
       "        vertical-align: top;\n",
       "    }\n",
       "\n",
       "    .dataframe thead th {\n",
       "        text-align: right;\n",
       "    }\n",
       "</style>\n",
       "<table border=\"1\" class=\"dataframe\">\n",
       "  <thead>\n",
       "    <tr style=\"text-align: right;\">\n",
       "      <th></th>\n",
       "      <th>one</th>\n",
       "      <th>two</th>\n",
       "    </tr>\n",
       "  </thead>\n",
       "  <tbody>\n",
       "    <tr>\n",
       "      <th>b</th>\n",
       "      <td>2.0</td>\n",
       "      <td>2.0</td>\n",
       "    </tr>\n",
       "  </tbody>\n",
       "</table>\n",
       "</div>"
      ],
      "text/plain": [
       "   one  two\n",
       "b  2.0  2.0"
      ]
     },
     "execution_count": 45,
     "metadata": {},
     "output_type": "execute_result"
    }
   ],
   "source": [
    "# so[(so['score'] >= 5) & (so['ans_name'] == 'Scott Boston')]\n",
    "df.loc[(df['one']>1) & (df['two']<3)] # select row conditional SELECT * FROM DF WHERE ONE > 1 AND TWO < 3"
   ]
  },
  {
   "cell_type": "code",
   "execution_count": 16,
   "metadata": {},
   "outputs": [
    {
     "data": {
      "text/html": [
       "<div>\n",
       "<style scoped>\n",
       "    .dataframe tbody tr th:only-of-type {\n",
       "        vertical-align: middle;\n",
       "    }\n",
       "\n",
       "    .dataframe tbody tr th {\n",
       "        vertical-align: top;\n",
       "    }\n",
       "\n",
       "    .dataframe thead th {\n",
       "        text-align: right;\n",
       "    }\n",
       "</style>\n",
       "<table border=\"1\" class=\"dataframe\">\n",
       "  <thead>\n",
       "    <tr style=\"text-align: right;\">\n",
       "      <th></th>\n",
       "      <th>one</th>\n",
       "      <th>two</th>\n",
       "    </tr>\n",
       "  </thead>\n",
       "  <tbody>\n",
       "    <tr>\n",
       "      <th>b</th>\n",
       "      <td>2.0</td>\n",
       "      <td>2.0</td>\n",
       "    </tr>\n",
       "    <tr>\n",
       "      <th>c</th>\n",
       "      <td>3.0</td>\n",
       "      <td>3.0</td>\n",
       "    </tr>\n",
       "  </tbody>\n",
       "</table>\n",
       "</div>"
      ],
      "text/plain": [
       "   one  two\n",
       "b  2.0  2.0\n",
       "c  3.0  3.0"
      ]
     },
     "execution_count": 16,
     "metadata": {},
     "output_type": "execute_result"
    }
   ],
   "source": [
    "df[df['one']>1] # same as before but shorter"
   ]
  },
  {
   "cell_type": "code",
   "execution_count": 21,
   "metadata": {},
   "outputs": [
    {
     "data": {
      "text/plain": [
       "b    2.0\n",
       "c    3.0\n",
       "Name: two, dtype: float64"
      ]
     },
     "execution_count": 21,
     "metadata": {},
     "output_type": "execute_result"
    }
   ],
   "source": [
    "df[df['one']>1]['two'] # SELECT TWO FROM DF WHERE ONE > 1"
   ]
  },
  {
   "cell_type": "code",
   "execution_count": 17,
   "metadata": {},
   "outputs": [
    {
     "data": {
      "text/html": [
       "<div>\n",
       "<style scoped>\n",
       "    .dataframe tbody tr th:only-of-type {\n",
       "        vertical-align: middle;\n",
       "    }\n",
       "\n",
       "    .dataframe tbody tr th {\n",
       "        vertical-align: top;\n",
       "    }\n",
       "\n",
       "    .dataframe thead th {\n",
       "        text-align: right;\n",
       "    }\n",
       "</style>\n",
       "<table border=\"1\" class=\"dataframe\">\n",
       "  <thead>\n",
       "    <tr style=\"text-align: right;\">\n",
       "      <th></th>\n",
       "      <th>a</th>\n",
       "      <th>b</th>\n",
       "      <th>c</th>\n",
       "      <th>d</th>\n",
       "    </tr>\n",
       "  </thead>\n",
       "  <tbody>\n",
       "    <tr>\n",
       "      <th>one</th>\n",
       "      <td>1.0</td>\n",
       "      <td>2.0</td>\n",
       "      <td>3.0</td>\n",
       "      <td>NaN</td>\n",
       "    </tr>\n",
       "    <tr>\n",
       "      <th>two</th>\n",
       "      <td>1.0</td>\n",
       "      <td>2.0</td>\n",
       "      <td>3.0</td>\n",
       "      <td>4.0</td>\n",
       "    </tr>\n",
       "  </tbody>\n",
       "</table>\n",
       "</div>"
      ],
      "text/plain": [
       "       a    b    c    d\n",
       "one  1.0  2.0  3.0  NaN\n",
       "two  1.0  2.0  3.0  4.0"
      ]
     },
     "execution_count": 17,
     "metadata": {},
     "output_type": "execute_result"
    }
   ],
   "source": [
    "#Transpose\n",
    "df[:].T"
   ]
  },
  {
   "cell_type": "code",
   "execution_count": 19,
   "metadata": {},
   "outputs": [
    {
     "name": "stdout",
     "output_type": "stream",
     "text": [
      "         0         1         2         3         4         5         6   \\\n",
      "0  0.924395  0.351617  0.677111  0.377823  0.174035  0.177969  0.809061   \n",
      "1  0.003374  0.412436  0.517592  0.544976  0.804041  0.632892  0.729735   \n",
      "2  0.472400  0.255054  0.476357  0.271065  0.887073  0.828703  0.111377   \n",
      "3  0.412270  0.085408  0.289507  0.241113  0.325856  0.987520  0.046170   \n",
      "4  0.813258  0.886901  0.318725  0.434961  0.968542  0.686747  0.156879   \n",
      "\n",
      "         7         8         9   ...        70        71        72        73  \\\n",
      "0  0.894282  0.737534  0.498608  ...  0.532723  0.877730  0.765417  0.064730   \n",
      "1  0.394838  0.796637  0.483712  ...  0.685384  0.352490  0.680258  0.818303   \n",
      "2  0.413770  0.129882  0.995131  ...  0.843696  0.115801  0.563078  0.550383   \n",
      "3  0.853087  0.255447  0.368316  ...  0.871749  0.656858  0.444908  0.930420   \n",
      "4  0.722707  0.938533  0.752139  ...  0.290290  0.786604  0.101116  0.665788   \n",
      "\n",
      "         74        75        76        77        78        79  \n",
      "0  0.781353  0.328173  0.776532  0.471883  0.250559  0.053731  \n",
      "1  0.808523  0.521124  0.338809  0.202881  0.323864  0.079149  \n",
      "2  0.284316  0.237388  0.231677  0.376983  0.611973  0.331904  \n",
      "3  0.329642  0.422192  0.007025  0.153964  0.250174  0.016825  \n",
      "4  0.798916  0.196371  0.233764  0.890596  0.316805  0.691969  \n",
      "\n",
      "[5 rows x 80 columns]\n"
     ]
    }
   ],
   "source": [
    "df2 = pd.DataFrame(np.random.rand(5,80))\n",
    "print(df2)"
   ]
  },
  {
   "cell_type": "code",
   "execution_count": 25,
   "metadata": {},
   "outputs": [
    {
     "data": {
      "text/plain": [
       "0     0.472400\n",
       "1     0.255054\n",
       "2     0.476357\n",
       "3     0.271065\n",
       "4     0.887073\n",
       "5     0.828703\n",
       "6     0.111377\n",
       "7     0.413770\n",
       "8     0.129882\n",
       "9     0.995131\n",
       "10    0.150208\n",
       "11    0.599692\n",
       "12    0.385426\n",
       "13    0.076966\n",
       "14    0.300831\n",
       "15    0.229568\n",
       "16    0.804541\n",
       "17    0.614677\n",
       "18    0.938373\n",
       "19    0.390313\n",
       "20    0.949379\n",
       "21    0.699703\n",
       "22    0.324991\n",
       "23    0.871411\n",
       "24    0.389504\n",
       "25    0.101381\n",
       "26    0.693144\n",
       "27    0.017352\n",
       "28    0.951471\n",
       "29    0.732369\n",
       "        ...   \n",
       "50    0.249288\n",
       "51    0.904339\n",
       "52    0.198189\n",
       "53    0.607390\n",
       "54    0.876691\n",
       "55    0.635185\n",
       "56    0.313410\n",
       "57    0.778818\n",
       "58    0.486811\n",
       "59    0.133040\n",
       "60    0.451965\n",
       "61    0.924031\n",
       "62    0.884821\n",
       "63    0.901517\n",
       "64    0.092076\n",
       "65    0.524904\n",
       "66    0.650211\n",
       "67    0.063018\n",
       "68    0.189388\n",
       "69    0.429564\n",
       "70    0.843696\n",
       "71    0.115801\n",
       "72    0.563078\n",
       "73    0.550383\n",
       "74    0.284316\n",
       "75    0.237388\n",
       "76    0.231677\n",
       "77    0.376983\n",
       "78    0.611973\n",
       "79    0.331904\n",
       "Name: 2, Length: 80, dtype: float64"
      ]
     },
     "execution_count": 25,
     "metadata": {},
     "output_type": "execute_result"
    }
   ],
   "source": [
    "#posso sliciare per riga, colonna, pezzi di riga o pezzi di colonna\n",
    "df2.iloc[2]\n",
    "#riga2"
   ]
  },
  {
   "cell_type": "code",
   "execution_count": 26,
   "metadata": {},
   "outputs": [
    {
     "data": {
      "text/plain": [
       "0    0.677111\n",
       "1    0.517592\n",
       "2    0.476357\n",
       "3    0.289507\n",
       "4    0.318725\n",
       "Name: 2, dtype: float64"
      ]
     },
     "execution_count": 26,
     "metadata": {},
     "output_type": "execute_result"
    }
   ],
   "source": [
    "df2[2]\n",
    "#colonna2"
   ]
  },
  {
   "cell_type": "code",
   "execution_count": 29,
   "metadata": {},
   "outputs": [
    {
     "data": {
      "text/html": [
       "<div>\n",
       "<style scoped>\n",
       "    .dataframe tbody tr th:only-of-type {\n",
       "        vertical-align: middle;\n",
       "    }\n",
       "\n",
       "    .dataframe tbody tr th {\n",
       "        vertical-align: top;\n",
       "    }\n",
       "\n",
       "    .dataframe thead th {\n",
       "        text-align: right;\n",
       "    }\n",
       "</style>\n",
       "<table border=\"1\" class=\"dataframe\">\n",
       "  <thead>\n",
       "    <tr style=\"text-align: right;\">\n",
       "      <th></th>\n",
       "      <th>0</th>\n",
       "      <th>1</th>\n",
       "      <th>2</th>\n",
       "      <th>3</th>\n",
       "      <th>4</th>\n",
       "      <th>5</th>\n",
       "      <th>6</th>\n",
       "      <th>7</th>\n",
       "      <th>8</th>\n",
       "      <th>9</th>\n",
       "      <th>...</th>\n",
       "      <th>70</th>\n",
       "      <th>71</th>\n",
       "      <th>72</th>\n",
       "      <th>73</th>\n",
       "      <th>74</th>\n",
       "      <th>75</th>\n",
       "      <th>76</th>\n",
       "      <th>77</th>\n",
       "      <th>78</th>\n",
       "      <th>79</th>\n",
       "    </tr>\n",
       "  </thead>\n",
       "  <tbody>\n",
       "  </tbody>\n",
       "</table>\n",
       "<p>0 rows × 80 columns</p>\n",
       "</div>"
      ],
      "text/plain": [
       "Empty DataFrame\n",
       "Columns: [0, 1, 2, 3, 4, 5, 6, 7, 8, 9, 10, 11, 12, 13, 14, 15, 16, 17, 18, 19, 20, 21, 22, 23, 24, 25, 26, 27, 28, 29, 30, 31, 32, 33, 34, 35, 36, 37, 38, 39, 40, 41, 42, 43, 44, 45, 46, 47, 48, 49, 50, 51, 52, 53, 54, 55, 56, 57, 58, 59, 60, 61, 62, 63, 64, 65, 66, 67, 68, 69, 70, 71, 72, 73, 74, 75, 76, 77, 78, 79]\n",
       "Index: []\n",
       "\n",
       "[0 rows x 80 columns]"
      ]
     },
     "execution_count": 29,
     "metadata": {},
     "output_type": "execute_result"
    }
   ],
   "source": [
    "df2.loc[(df2[1]>1) & (df2[2]<3)]"
   ]
  },
  {
   "cell_type": "code",
   "execution_count": null,
   "metadata": {},
   "outputs": [],
   "source": []
  }
 ],
 "metadata": {
  "kernelspec": {
   "display_name": "Python 3",
   "language": "python",
   "name": "python3"
  },
  "language_info": {
   "codemirror_mode": {
    "name": "ipython",
    "version": 3
   },
   "file_extension": ".py",
   "mimetype": "text/x-python",
   "name": "python",
   "nbconvert_exporter": "python",
   "pygments_lexer": "ipython3",
   "version": "3.7.3"
  }
 },
 "nbformat": 4,
 "nbformat_minor": 2
}
